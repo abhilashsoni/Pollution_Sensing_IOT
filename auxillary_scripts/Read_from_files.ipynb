{
 "cells": [
  {
   "cell_type": "code",
   "execution_count": 1,
   "metadata": {
    "collapsed": true
   },
   "outputs": [],
   "source": [
    "import firebase_admin\n",
    "from firebase_admin import credentials, firestore\n",
    "import re\n",
    "from datetime import datetime\n",
    "import time\n",
    "import matplotlib.pyplot as plt\n",
    "import numpy as np\n",
    "import os\n",
    "%matplotlib inline"
   ]
  },
  {
   "cell_type": "code",
   "execution_count": 7,
   "metadata": {},
   "outputs": [
    {
     "data": {
      "text/plain": [
       "'2018-11-25 13:54:20:816image.jpg'"
      ]
     },
     "execution_count": 7,
     "metadata": {},
     "output_type": "execute_result"
    }
   ],
   "source": [
    "timestamps1 = []\n",
    "f = open ('fnames.txt')\n",
    "lines = f.readlines()\n",
    "f.close()\n",
    "for line in lines:\n",
    "#     t = datetime.strptime(line, \"%Y-%m-%d %H:%M:%S:%fimage.jpg\")\n",
    "    #.strftime('%Y-%m-%d %H:%M:%S:%f')[:-3]\n",
    "    timestamps1.append(line[:-1])\n",
    "timestamps1[3]"
   ]
  },
  {
   "cell_type": "code",
   "execution_count": 2,
   "metadata": {
    "collapsed": true
   },
   "outputs": [],
   "source": [
    "# localdir1 = 'image'\n",
    "# timestamps1 = []\n",
    "\n",
    "# flist1 = os.listdir(localdir1)\n",
    "localdir2 = 'arduino'\n",
    "timestamps2 = []\n",
    "flist2 = os.listdir(localdir2)\n",
    "localdir3 = 'bme'\n",
    "timestamps3 = []\n",
    "flist3 = os.listdir(localdir3)\n",
    "localdir4 = 'poldata'\n",
    "timestamps4 = []\n",
    "flist4 = os.listdir(localdir4)\n",
    "\n",
    "# flist1"
   ]
  },
  {
   "cell_type": "code",
   "execution_count": null,
   "metadata": {
    "collapsed": true
   },
   "outputs": [],
   "source": [
    "\n",
    "# for localfile in flist:#0th file in .keep , last file is currently in use\n",
    "#     # print (\"Processing file {}\".format(localfile))\n",
    "#     f = open(localdir+'/'+localfile,'r')\n",
    "#     # print (\"Opened file {}\".format(localfile))\n",
    "#     lines=f.read().split('@')[1:]\n",
    "#     f.close()\n",
    "# #     print ( \"Read {} lines in {}\".format(len(lines),localdir))\n",
    "#     dic = {}\n",
    "#     # if (len(lines)>data_lines_uploaded):\n",
    "#     for line in lines:\n",
    "#         linelist = line.split(',')\n",
    "#         ltime = linelist[0].strip()\n",
    "# #         print(\"${}$\".format(ltime))\n",
    "#         timestamps.append(ltime)\n",
    "# # print(\"${}$\".format(timestamps[0]))\n",
    "# print (\"Dictionary made!\")"
   ]
  },
  {
   "cell_type": "code",
   "execution_count": 4,
   "metadata": {},
   "outputs": [
    {
     "name": "stdout",
     "output_type": "stream",
     "text": [
      "Dictionary 2 made!\n",
      "Dictionary 3 made!\n",
      "Dictionary 4 made!\n"
     ]
    }
   ],
   "source": [
    "# for localfile in flist1:#0th file in .keep , last file is currently in use\n",
    "#     # print (\"Processing file {}\".format(localfile))\n",
    "#     f = open(localdir1+'/'+localfile,'r')\n",
    "#     # print (\"Opened file {}\".format(localfile))\n",
    "#     lines=f.read().split('@')[1:]\n",
    "#     f.close()\n",
    "# #     print ( \"Read {} lines in {}\".format(len(lines),localdir))\n",
    "#     dic = {}\n",
    "#     # if (len(lines)>data_lines_uploaded):\n",
    "#     for line in lines:\n",
    "#         linelist = line.split(',')\n",
    "#         ltime = linelist[0].strip()\n",
    "# #         print(\"${}$\".format(ltime))\n",
    "#         timestamps1.append(ltime)\n",
    "# # print(\"${}$\".format(timestamps[0]))\n",
    "# print (\"Dictionary made!\")\n",
    "for localfile in flist2:#0th file in .keep , last file is currently in use\n",
    "    # print (\"Processing file {}\".format(localfile))\n",
    "    f = open(localdir2+'/'+localfile,'r')\n",
    "    # print (\"Opened file {}\".format(localfile))\n",
    "    lines=f.read().split('@')[1:]\n",
    "    f.close()\n",
    "#     print ( \"Read {} lines in {}\".format(len(lines),localdir))\n",
    "    dic = {}\n",
    "    # if (len(lines)>data_lines_uploaded):\n",
    "    for line in lines:\n",
    "        linelist = line.split(',')\n",
    "        ltime = linelist[0].strip()\n",
    "#         print(\"${}$\".format(ltime))\n",
    "        timestamps2.append(ltime)\n",
    "# print(\"${}$\".format(timestamps[0]))\n",
    "print (\"Dictionary 2 made!\")\n",
    "for localfile in flist3:#0th file in .keep , last file is currently in use\n",
    "    # print (\"Processing file {}\".format(localfile))\n",
    "    f = open(localdir3+'/'+localfile,'r')\n",
    "    # print (\"Opened file {}\".format(localfile))\n",
    "    lines=f.read().split('@')[1:]\n",
    "    f.close()\n",
    "#     print ( \"Read {} lines in {}\".format(len(lines),localdir))\n",
    "    dic = {}\n",
    "    # if (len(lines)>data_lines_uploaded):\n",
    "    for line in lines:\n",
    "        linelist = line.split(',')\n",
    "        ltime = linelist[0].strip()\n",
    "#         print(\"${}$\".format(ltime))\n",
    "        timestamps3.append(ltime)\n",
    "# print(\"${}$\".format(timestamps[0]))\n",
    "print (\"Dictionary 3 made!\")\n",
    "for localfile in flist4:#0th file in .keep , last file is currently in use\n",
    "    # print (\"Processing file {}\".format(localfile))\n",
    "    f = open(localdir4+'/'+localfile,'r')\n",
    "    # print (\"Opened file {}\".format(localfile))\n",
    "    lines=f.read().split('@')[1:]\n",
    "    f.close()\n",
    "#     print ( \"Read {} lines in {}\".format(len(lines),localdir))\n",
    "    dic = {}\n",
    "    # if (len(lines)>data_lines_uploaded):\n",
    "    for line in lines:\n",
    "        linelist = line.split(',')\n",
    "        ltime = linelist[0].strip()\n",
    "#         print(\"${}$\".format(ltime))\n",
    "        timestamps4.append(ltime)\n",
    "# print(\"${}$\".format(timestamps[0]))\n",
    "print (\"Dictionary 4 made!\")"
   ]
  },
  {
   "cell_type": "code",
   "execution_count": null,
   "metadata": {
    "collapsed": true
   },
   "outputs": [],
   "source": [
    "# cred = credentials.Certificate(\"serviceAccountKey.json\")\n",
    "# firebase_admin.initialize_app(cred)\n",
    "# db = firestore.client()"
   ]
  },
  {
   "cell_type": "code",
   "execution_count": null,
   "metadata": {
    "collapsed": true
   },
   "outputs": [],
   "source": [
    "# database_ref = db.collection(u'sensor_data_mp')\n",
    "# timestamps = []\n",
    "# docs = database_ref.get()\n",
    "# for doc in docs:\n",
    "#     dic = doc.to_dict()\n",
    "#     timestamps = timestamps.extend(dic.keys())"
   ]
  },
  {
   "cell_type": "code",
   "execution_count": null,
   "metadata": {},
   "outputs": [],
   "source": [
    "len(timestamps2)"
   ]
  },
  {
   "cell_type": "code",
   "execution_count": null,
   "metadata": {
    "collapsed": true
   },
   "outputs": [],
   "source": [
    "def create_diffs(timestamps):\n",
    "    keys = sorted(timestamps)\n",
    "    diffs = [] \n",
    "    for i in range(0,len(keys)-1):\n",
    "        key1 = keys[i]\n",
    "        key2 = keys[i+1]\n",
    "    #     print(\"${}$\".format(key1))\n",
    "    #         print(key2)\n",
    "        keyparsed1 = datetime.strptime(key1, \"%Y-%m-%d %H:%M:%S:%f\")\n",
    "        keyparsed2 = datetime.strptime(key2, \"%Y-%m-%d %H:%M:%S:%f\")\n",
    "    #     dif = keyparsed2-keyparsed1\n",
    "        #print(dif)\n",
    "        #k = dif.split(':')\n",
    "        #measure = k[0]*3600+k[1]*60+k[2]\n",
    "        measure = (keyparsed2-keyparsed1).total_seconds()+(keyparsed2-keyparsed1).microseconds/1000000.0\n",
    "        diffs.append(measure)\n",
    "    return diffs\n",
    "# print(\"Average : {}\".format(np.mean(diffs)))\n",
    "# print(\"Std dev : {}\".format(np.std(diffs)))\n",
    "# plt.hist(diffs, normed=True, bins=10,cumulative=False)\n",
    "\n",
    "# plt.ylabel('Probability');"
   ]
  },
  {
   "cell_type": "code",
   "execution_count": null,
   "metadata": {
    "collapsed": true
   },
   "outputs": [],
   "source": [
    "diffs1 = create_diffs(timestamps1)\n",
    "diffs2 = create_diffs(timestamps2)\n",
    "diffs3 = create_diffs(timestamps3)\n",
    "diffs4 = create_diffs(timestamps4)"
   ]
  },
  {
   "cell_type": "code",
   "execution_count": null,
   "metadata": {},
   "outputs": [],
   "source": [
    "x1 = sorted(diffs1)\n",
    "x1 = x1[0:-20]\n",
    "print(\"Average1 : {}\".format(np.mean(diffs1)))\n",
    "print(\"Std dev1 : {}\".format(np.std(diffs1)))\n",
    "y1 = np.arange(1,len(x1)+1)/len(x1)\n",
    "x2 = sorted(diffs2)\n",
    "x2 = x2[0:-20]\n",
    "print(\"Average2 : {}\".format(np.mean(diffs2)))\n",
    "print(\"Std dev2 : {}\".format(np.std(diffs2)))\n",
    "y2= np.arange(1,len(x2)+1)/len(x2)\n",
    "x3 = sorted(diffs3)\n",
    "x3 = x3[0:-20]\n",
    "print(\"Average3 : {}\".format(np.mean(diffs3)))\n",
    "print(\"Std dev3 : {}\".format(np.std(diffs3)))\n",
    "y3 = np.arange(1,len(x3)+1)/len(x3)\n",
    "x4 =sorted(diffs4)\n",
    "x4 = x4[0:-20]\n",
    "print(\"Average4 : {}\".format(np.mean(diffs4)))\n",
    "print(\"Std dev4 : {}\".format(np.std(diffs4)))\n",
    "y4 = np.arange(1,len(x4)+1)/len(x4)\n",
    "\n",
    "plt.figure(figsize=(10,8))\n",
    "plt.plot(x1,y1,marker='.',linestyle='none')\n",
    "plt.plot(x2,y2,marker='.',linestyle='none')\n",
    "plt.plot(x3,y3,marker='.',linestyle='none')\n",
    "plt.plot(x4,y4,marker='.',linestyle='none')\n",
    "plt.ylabel('Probability');"
   ]
  },
  {
   "cell_type": "code",
   "execution_count": null,
   "metadata": {
    "collapsed": true
   },
   "outputs": [],
   "source": [
    "f = open('uptime_with_script_mp.log','r')\n",
    "lines = f.readlines()\n",
    "y1 = []\n",
    "for line in lines:\n",
    "    y1.append(float(line[45:49]))\n",
    "x1 = np.arange(1,len(y1)+1)\n",
    "f.close()"
   ]
  },
  {
   "cell_type": "code",
   "execution_count": null,
   "metadata": {
    "collapsed": true
   },
   "outputs": [],
   "source": [
    "f = open('uptime_noscript.log','r')\n",
    "lines = f.readlines()\n",
    "y2 = []\n",
    "for line in lines:\n",
    "    y2.append(float(line[45:49]))\n",
    "x2 = np.arange(1,len(y2)+1)\n",
    "f.close()"
   ]
  },
  {
   "cell_type": "code",
   "execution_count": null,
   "metadata": {},
   "outputs": [],
   "source": [
    "len(x2)"
   ]
  },
  {
   "cell_type": "code",
   "execution_count": null,
   "metadata": {},
   "outputs": [],
   "source": [
    "plt.figure(figsize=(20,10))\n",
    "plt.plot(x1,y1,'r-')\n",
    "plt.plot(x2,y2,'g-')\n",
    "plt.ylabel('load')\n"
   ]
  },
  {
   "cell_type": "code",
   "execution_count": null,
   "metadata": {},
   "outputs": [],
   "source": [
    "(1.84-1.5)/1.84"
   ]
  },
  {
   "cell_type": "code",
   "execution_count": 5,
   "metadata": {},
   "outputs": [
    {
     "data": {
      "text/plain": [
       "19795"
      ]
     },
     "execution_count": 5,
     "metadata": {},
     "output_type": "execute_result"
    }
   ],
   "source": [
    "keys = sorted(timestamps2)\n",
    "len(keys)"
   ]
  },
  {
   "cell_type": "code",
   "execution_count": 6,
   "metadata": {},
   "outputs": [
    {
     "name": "stdout",
     "output_type": "stream",
     "text": [
      "2018-11-25 13:54:18:371\n",
      "2018-11-25 14:14:56:953\n"
     ]
    },
    {
     "data": {
      "text/plain": [
       "20.652733333333337"
      ]
     },
     "execution_count": 6,
     "metadata": {},
     "output_type": "execute_result"
    }
   ],
   "source": [
    "\n",
    "key1 = keys[0]\n",
    "key2 = keys[-1]\n",
    "print(key1)\n",
    "print(key2)\n",
    "#     print(\"${}$\".format(key1))\n",
    "#         print(key2)\n",
    "keyparsed1 = datetime.strptime(key1, \"%Y-%m-%d %H:%M:%S:%f\")\n",
    "keyparsed2 = datetime.strptime(key2, \"%Y-%m-%d %H:%M:%S:%f\")\n",
    "measure = (keyparsed2-keyparsed1).total_seconds()+(keyparsed2-keyparsed1).microseconds/1000000.0\n",
    "measure/60"
   ]
  },
  {
   "cell_type": "code",
   "execution_count": 8,
   "metadata": {},
   "outputs": [
    {
     "name": "stdout",
     "output_type": "stream",
     "text": [
      "Observed freq image = 0.6318776207184843\n",
      "Observed freq arduino = 15.974479568483265\n",
      "Observed freq bme = 0.988569713129174\n",
      "Observed freq poldata = 0.8739763259746085\n"
     ]
    }
   ],
   "source": [
    "print('Observed freq image = {}'.format(len(timestamps1)/measure))\n",
    "print('Observed freq arduino = {}'.format(len(timestamps2)/measure))\n",
    "print('Observed freq bme = {}'.format(len(timestamps3)/measure))\n",
    "print('Observed freq poldata = {}'.format(len(timestamps4)/measure))"
   ]
  },
  {
   "cell_type": "code",
   "execution_count": 10,
   "metadata": {},
   "outputs": [
    {
     "data": {
      "text/plain": [
       "0.07021791767554479"
      ]
     },
     "execution_count": 10,
     "metadata": {},
     "output_type": "execute_result"
    }
   ],
   "source": [
    "1.45/20.65"
   ]
  },
  {
   "cell_type": "code",
   "execution_count": null,
   "metadata": {
    "collapsed": true
   },
   "outputs": [],
   "source": []
  }
 ],
 "metadata": {
  "kernelspec": {
   "display_name": "Python 3",
   "language": "python",
   "name": "python3"
  },
  "language_info": {
   "codemirror_mode": {
    "name": "ipython",
    "version": 3
   },
   "file_extension": ".py",
   "mimetype": "text/x-python",
   "name": "python",
   "nbconvert_exporter": "python",
   "pygments_lexer": "ipython3",
   "version": "3.6.1"
  }
 },
 "nbformat": 4,
 "nbformat_minor": 2
}
